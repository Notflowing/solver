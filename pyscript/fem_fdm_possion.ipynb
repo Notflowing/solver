{
 "cells": [
  {
   "cell_type": "code",
   "execution_count": 2,
   "metadata": {},
   "outputs": [
    {
     "data": {
      "image/png": "[encoded data removed]",
      "text/plain": [
       "<Figure size 432x288 with 1 Axes>"
      ]
     },
     "metadata": {
      "needs_background": "light"
     },
     "output_type": "display_data"
    }
   ],
   "source": [
    "import numpy as np\n",
    "import matplotlib.pyplot as plt\n",
    "from matplotlib.animation import FuncAnimation\n",
    "\n",
    "nx = 100\n",
    "dx = 1 / nx\n",
    "xlab = np.arange(0, 1, 0.01)\n",
    "\n",
    "fem = np.zeros(nx, dtype=float)\n",
    "s = np.zeros(nx, dtype=float)\n",
    "s[int(nx / 2)] = 1\n",
    "# us = 0\n",
    "# ue = 0\n",
    "\n",
    "# with non zeros boundary condition\n",
    "us = 0.0\n",
    "ue = 0.0\n",
    "secs = []\n",
    "fig, ax = plt.subplots()\n",
    "\n",
    "# FEM\n",
    "a = np.zeros([nx, nx], dtype=float)\n",
    "for i in range(1, nx - 1):\n",
    "    for j in range(1, nx - 1):\n",
    "        if i == j:\n",
    "            a[i][j] = 2 / dx\n",
    "        elif j == i - 1 or j == i + 1:\n",
    "            a[i][j] = -1 / dx\n",
    "\n",
    "asta = np.zeros(nx - 2, dtype=float)\n",
    "aend = np.zeros(nx - 2, dtype=float)\n",
    "asta[0] = -1 / dx\n",
    "aend[nx - 3] = -1 / dx\n",
    "s[1:nx - 1] = s[1:nx - 1] - us * asta - ue * aend\n",
    "\n",
    "a_inv = np.linalg.inv(a[1:nx - 1, 1:nx - 1])\n",
    "fem[1:nx - 1] = a_inv @ s[1:nx - 1]\n",
    "fem[0] = us\n",
    "fem[nx - 1] = ue\n",
    "\n",
    "# FDM\n",
    "p = np.zeros(nx, dtype=float)\n",
    "pold = np.zeros(nx, dtype=float)\n",
    "f = np.zeros(nx, dtype=float)\n",
    "f[int(nx / 2)] = 1 / dx\n",
    "for i in range(12000):\n",
    "    for j in range(1, nx - 1):\n",
    "        p[j] = 0.5 * (pold[j - 1] + pold[j + 1] + f[j] * dx**2)\n",
    "    p[0] = 0.0\n",
    "    p[nx - 1] = 0.0\n",
    "    pold = p.copy()\n",
    "\n",
    "    if i % 50 == 0:\n",
    "        secs.append(pold)\n",
    "\n",
    "def init():\n",
    "    ax.set_xlim(0 - 0.01, 1 + 0.01)\n",
    "    ax.set_ylim(0, 0.4)\n",
    "    xlim = np.arange(0, 1.1, 0.1)\n",
    "    ylim = np.arange(0, 0.4, 0.05)\n",
    "    ax.set_xticks(xlim)\n",
    "    ax.set_yticks(ylim)\n",
    "    \n",
    "\n",
    "def update(frame):\n",
    "    ax.clear()\n",
    "    ax.set_xlim(0 - 0.01, 1 + 0.01)\n",
    "    ax.set_ylim(0, 0.4)\n",
    "    ax.set_xlabel('x')\n",
    "    ax.set_ylabel('u(x)')\n",
    "    xlim = np.arange(0, 1.1, 0.1)\n",
    "    ylim = np.arange(0, 0.4, 0.05)\n",
    "    ax.set_xticks(xlim)\n",
    "    ax.set_yticks(ylim)\n",
    "    time = frame * 50\n",
    "    ax.plot(xlab, fem, 'r-', label='FEM')\n",
    "    ax.plot(xlab, secs[frame], 'b-', label='FDM')\n",
    "    ax.legend(loc='upper right', fontsize='large')\n",
    "    ax.set_title(\"FEM -- FDM(the {:d} iteration)\".format(time))\n",
    "    return fig\n",
    "\n",
    "anim = FuncAnimation(fig, update, frames=range(len(secs)), blit=False, interval=25, repeat=False, init_func=init)\n",
    "# plt.show()\n",
    "anim.save('./pic/FEM_FDM.gif', writer='pillow')\n",
    "\n"
   ]
  }
 ],
 "metadata": {
  "kernelspec": {
   "display_name": "python3.9",
   "language": "python",
   "name": "python3"
  },
  "language_info": {
   "codemirror_mode": {
    "name": "ipython",
    "version": 3
   },
   "file_extension": ".py",
   "mimetype": "text/x-python",
   "name": "python",
   "nbconvert_exporter": "python",
   "pygments_lexer": "ipython3",
   "version": "3.9.12"
  },
  "orig_nbformat": 4
 },
 "nbformat": 4,
 "nbformat_minor": 2
}
